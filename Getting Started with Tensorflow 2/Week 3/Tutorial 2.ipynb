{
 "cells": [
  {
   "cell_type": "code",
   "execution_count": 2,
   "metadata": {
    "scrolled": true
   },
   "outputs": [
    {
     "name": "stdout",
     "output_type": "stream",
     "text": [
      "2.0.0\n"
     ]
    }
   ],
   "source": [
    "import tensorflow as tf\n",
    "print(tf.__version__)"
   ]
  },
  {
   "cell_type": "markdown",
   "metadata": {},
   "source": [
    "# Validation, regularisation and callbacks"
   ]
  },
  {
   "cell_type": "markdown",
   "metadata": {},
   "source": [
    " ## Coding tutorials\n",
    " #### [1. Validation sets](#coding_tutorial_1)\n",
    " #### [2. Model regularisation](#coding_tutorial_2)\n",
    " #### [3. Introduction to callbacks](#coding_tutorial_3)\n",
    " #### [4. Early stopping / patience](#coding_tutorial_4)"
   ]
  },
  {
   "cell_type": "markdown",
   "metadata": {},
   "source": [
    "***\n",
    "<a id=\"coding_tutorial_1\"></a>\n",
    "## Validation sets"
   ]
  },
  {
   "cell_type": "markdown",
   "metadata": {},
   "source": [
    "#### Load the data"
   ]
  },
  {
   "cell_type": "code",
   "execution_count": 3,
   "metadata": {
    "scrolled": true
   },
   "outputs": [
    {
     "name": "stdout",
     "output_type": "stream",
     "text": [
      ".. _diabetes_dataset:\n",
      "\n",
      "Diabetes dataset\n",
      "----------------\n",
      "\n",
      "Ten baseline variables, age, sex, body mass index, average blood\n",
      "pressure, and six blood serum measurements were obtained for each of n =\n",
      "442 diabetes patients, as well as the response of interest, a\n",
      "quantitative measure of disease progression one year after baseline.\n",
      "\n",
      "**Data Set Characteristics:**\n",
      "\n",
      "  :Number of Instances: 442\n",
      "\n",
      "  :Number of Attributes: First 10 columns are numeric predictive values\n",
      "\n",
      "  :Target: Column 11 is a quantitative measure of disease progression one year after baseline\n",
      "\n",
      "  :Attribute Information:\n",
      "      - Age\n",
      "      - Sex\n",
      "      - Body mass index\n",
      "      - Average blood pressure\n",
      "      - S1\n",
      "      - S2\n",
      "      - S3\n",
      "      - S4\n",
      "      - S5\n",
      "      - S6\n",
      "\n",
      "Note: Each of these 10 feature variables have been mean centered and scaled by the standard deviation times `n_samples` (i.e. the sum of squares of each column totals 1).\n",
      "\n",
      "Source URL:\n",
      "http://www4.stat.ncsu.edu/~boos/var.select/diabetes.html\n",
      "\n",
      "For more information see:\n",
      "Bradley Efron, Trevor Hastie, Iain Johnstone and Robert Tibshirani (2004) \"Least Angle Regression,\" Annals of Statistics (with discussion), 407-499.\n",
      "(http://web.stanford.edu/~hastie/Papers/LARS/LeastAngle_2002.pdf)\n"
     ]
    }
   ],
   "source": [
    "# Load the diabetes dataset\n",
    "from sklearn.datasets import load_diabetes\n",
    "diabetes_dataset = load_diabetes()\n",
    "print(diabetes_dataset[\"DESCR\"])"
   ]
  },
  {
   "cell_type": "code",
   "execution_count": 4,
   "metadata": {},
   "outputs": [],
   "source": [
    "# Save the input and target variables\n",
    "\n",
    "data = diabetes_dataset[\"data\"]\n",
    "targets = diabetes_dataset[\"target\"]"
   ]
  },
  {
   "cell_type": "code",
   "execution_count": 5,
   "metadata": {},
   "outputs": [
    {
     "data": {
      "text/plain": [
       "array([-1.47194752e-02, -1.00165882e+00, -1.44579915e-01,  6.99512942e-01,\n",
       "       -2.22496178e-01, -7.15965848e-01, -1.83538046e-01, -1.15749134e+00,\n",
       "       -5.47147277e-01,  2.05006151e+00, -6.64021672e-01, -1.07957508e+00,\n",
       "        3.48889755e-01,  4.26806019e-01, -4.43258925e-01,  2.45001404e-01,\n",
       "        1.80071184e-01, -1.05621783e-01, -7.15965848e-01,  2.06043272e-01,\n",
       "       -1.09256112e+00, -1.33929596e+00, -1.09256112e+00,  1.20596866e+00,\n",
       "        4.13819975e-01,  6.47568766e-01, -1.96524090e-01, -8.71798376e-01,\n",
       "       -2.74440354e-01,  1.69943833e+00, -3.00412442e-01, -1.20943552e+00,\n",
       "        2.45262887e+00, -8.45826288e-01, -1.13151925e+00, -6.51035629e-01,\n",
       "        1.46568953e+00,  1.60853602e+00,  1.29687096e+00, -8.06868156e-01,\n",
       "       -6.77007716e-01, -1.26137969e+00, -1.18346343e+00, -7.80896068e-01,\n",
       "        1.38777327e+00, -1.28735178e+00,  4.91736239e-01, -1.31593871e-01,\n",
       "       -1.00165882e+00, -1.31593871e-01,  3.72247006e-02,  9.46247777e-01,\n",
       "       -1.20943552e+00, -6.25063541e-01,  3.87847887e-01, -3.13398486e-01,\n",
       "       -1.30033783e+00, -1.49512849e+00,  2.32015360e-01,  2.32015360e-01,\n",
       "       -1.18346343e+00, -1.05621783e-01, -1.30033783e+00, -3.13398486e-01,\n",
       "       -1.05360299e+00,  1.41113052e-01, -2.77055191e-02, -7.15965848e-01,\n",
       "        1.02154920e-01,  3.35903711e-01, -1.35228200e+00,  1.53061975e+00,\n",
       "        6.47568766e-01, -5.34161233e-01, -8.71798376e-01, -1.43019827e+00,\n",
       "        2.32015360e-01,  6.21596678e-01,  1.29687096e+00, -5.08189145e-01,\n",
       "       -1.18607827e-01, -1.31332387e+00, -1.30033783e+00,  7.51457118e-01,\n",
       "       -1.13151925e+00, -1.44579915e-01, -1.26137969e+00, -2.35482222e-01,\n",
       "       -1.43019827e+00, -5.34161233e-01, -7.02979804e-01,  1.54099096e-01,\n",
       "       -1.35228200e+00, -7.28951892e-01, -8.06868156e-01,  1.28127008e-01,\n",
       "       -2.77055191e-02,  1.64749415e+00, -7.80896068e-01, -8.97770464e-01,\n",
       "       -3.13398486e-01, -6.51035629e-01,  1.94617316e+00,  5.95624590e-01,\n",
       "       -7.41937936e-01, -1.28735178e+00, -2.35482222e-01, -1.05621783e-01,\n",
       "        1.03715008e+00, -9.23742551e-01, -6.25063541e-01, -1.20943552e+00,\n",
       "        1.21895470e+00,  1.88124294e+00,  1.37478723e+00,  9.98191953e-01,\n",
       "        1.59554997e+00,  1.67346624e+00,  3.48889755e-01,  6.21596678e-01,\n",
       "        6.21596678e-01,  2.70973492e-01,  3.61875799e-01, -8.84784420e-01,\n",
       "       -4.04300794e-01,  1.15140964e-01, -6.89993760e-01, -5.60133321e-01,\n",
       "       -4.82217057e-01,  1.50464767e+00,  1.58256393e+00,  7.61828325e-02,\n",
       "       -5.86105409e-01, -8.97770464e-01, -6.38049585e-01,  1.55659184e+00,\n",
       "       -8.71798376e-01,  1.66048019e+00,  2.38769865e+00,  1.67346624e+00,\n",
       "       -4.43258925e-01,  2.14096382e+00,  1.07610822e+00, -1.19644947e+00,\n",
       "        2.83959536e-01,  1.38777327e+00,  3.35903711e-01, -3.13398486e-01,\n",
       "       -7.28951892e-01, -3.39370574e-01,  1.76436855e+00, -8.32840244e-01,\n",
       "        1.81631272e+00, -1.05360299e+00,  5.82638546e-01,  4.39792063e-01,\n",
       "       -1.65096101e+00, -8.84784420e-01, -7.28951892e-01,  5.56666458e-01,\n",
       "       -1.28735178e+00,  8.42359425e-01,  2.57987448e-01, -2.74440354e-01,\n",
       "        8.03401293e-01, -1.20943552e+00, -1.06658903e+00,  8.81317557e-01,\n",
       "        1.50464767e+00, -1.73343121e-03, -1.36526805e+00, -1.01464486e+00,\n",
       "        1.85527085e+00, -6.64021672e-01, -1.47194752e-02, -3.26384530e-01,\n",
       "        1.10208030e+00,  9.46247777e-01, -9.23742551e-01, -1.47194752e-02,\n",
       "       -5.86105409e-01, -1.14450530e+00, -1.83538046e-01,  4.26806019e-01,\n",
       "        1.46568953e+00, -6.64021672e-01, -1.96524090e-01, -1.18607827e-01,\n",
       "       -1.44579915e-01, -9.49714639e-01,  1.81631272e+00,  3.35903711e-01,\n",
       "       -7.93882112e-01, -4.69231013e-01, -8.58812332e-01, -3.91314750e-01,\n",
       "       -1.04061695e+00, -3.00412442e-01, -1.31593871e-01, -8.06868156e-01,\n",
       "        7.61828325e-02, -1.46915640e+00,  5.69652502e-01,  9.07289645e-01,\n",
       "        1.62152206e+00, -6.89993760e-01,  5.69652502e-01,  6.47568766e-01,\n",
       "        3.72247006e-02, -9.75686727e-01,  5.04722283e-01, -1.06658903e+00,\n",
       "       -1.02763090e+00, -1.33929596e+00, -1.13151925e+00,  1.43971745e+00,\n",
       "        1.24492679e+00,  1.86825690e+00,  8.03401293e-01,  4.26806019e-01,\n",
       "       -9.62700683e-01, -7.67910024e-01,  1.29687096e+00, -2.77055191e-02,\n",
       "       -9.75686727e-01,  7.25485030e-01, -9.75686727e-01, -5.73119365e-01,\n",
       "        1.02154920e-01, -1.28735178e+00,  8.81317557e-01,  2.42386567e-02,\n",
       "        1.38777327e+00, -8.06868156e-01,  1.21895470e+00, -3.65342662e-01,\n",
       "       -1.10554717e+00, -1.04061695e+00,  1.36180118e+00,  1.42673140e+00,\n",
       "        1.59554997e+00,  3.22917667e-01, -1.05360299e+00, -1.36526805e+00,\n",
       "        4.52778107e-01, -3.52356618e-01, -9.62700683e-01, -1.31332387e+00,\n",
       "        1.37478723e+00,  8.16387337e-01,  1.95915920e+00,  1.17999657e+00,\n",
       "       -7.93882112e-01, -2.77055191e-02,  2.05006151e+00,  1.12526127e-02,\n",
       "        2.51755909e+00, -1.15749134e+00, -8.19854200e-01, -1.32630991e+00,\n",
       "       -1.46915640e+00, -6.38049585e-01,  2.02408942e+00, -4.69231013e-01,\n",
       "       -9.26357388e-02, -1.01464486e+00, -1.39124013e+00, -4.82217057e-01,\n",
       "        1.45270349e+00, -8.45826288e-01,  6.47568766e-01, -3.26384530e-01,\n",
       "        3.87847887e-01,  1.15402448e+00, -1.11853321e+00, -7.54923980e-01,\n",
       "        1.69943833e+00, -1.14450530e+00, -6.51035629e-01,  6.21596678e-01,\n",
       "        1.46568953e+00, -7.54923980e-01,  1.01117800e+00,  3.74861843e-01,\n",
       "        5.02107446e-02,  1.05013613e+00, -1.19644947e+00,  8.68331513e-01,\n",
       "       -9.36728595e-01, -1.09256112e+00,  2.33575448e+00,  1.24492679e+00,\n",
       "       -8.84784420e-01,  6.21596678e-01, -1.26137969e+00, -8.71798376e-01,\n",
       "       -8.19854200e-01, -1.57304475e+00, -3.00412442e-01, -8.97770464e-01,\n",
       "        1.59554997e+00, -1.13151925e+00,  5.95624590e-01,  1.08909426e+00,\n",
       "        1.30985701e+00, -3.65342662e-01, -1.40422618e+00,  2.57987448e-01,\n",
       "       -4.95203101e-01, -1.31593871e-01, -5.60133321e-01,  3.61875799e-01,\n",
       "       -1.05621783e-01,  1.41113052e-01, -6.66636509e-02, -7.15965848e-01,\n",
       "        8.81317557e-01,  4.91736239e-01, -5.60133321e-01,  5.04722283e-01,\n",
       "       -3.91314750e-01,  1.01117800e+00,  1.16701052e+00,  1.24492679e+00,\n",
       "        1.25791283e+00,  5.17708327e-01, -2.74440354e-01,  1.10208030e+00,\n",
       "       -9.62700683e-01, -2.22496178e-01,  1.19298261e+00,  6.08610634e-01,\n",
       "        1.53061975e+00,  1.54099096e-01, -1.04061695e+00, -7.28951892e-01,\n",
       "        1.99811734e+00, -7.93882112e-01,  8.03401293e-01, -7.41937936e-01,\n",
       "        8.29373381e-01,  1.43971745e+00,  3.35903711e-01, -5.08189145e-01,\n",
       "        6.21596678e-01, -1.70552003e-01, -1.70552003e-01, -8.32840244e-01,\n",
       "       -5.36776070e-02, -8.32840244e-01,  1.17999657e+00, -1.05360299e+00,\n",
       "       -9.75686727e-01, -5.60133321e-01,  1.55659184e+00, -1.19644947e+00,\n",
       "       -1.27436574e+00,  8.94303601e-01, -8.06868156e-01,  2.06304756e+00,\n",
       "        1.67346624e+00,  3.87847887e-01,  2.19290800e+00, -1.22242156e+00,\n",
       "        1.42673140e+00,  6.99512942e-01,  1.05013613e+00,  1.16701052e+00,\n",
       "       -3.78328706e-01,  1.93057228e-01, -1.15749134e+00,  5.82638546e-01,\n",
       "       -1.05360299e+00,  2.06043272e-01, -1.57565959e-01,  8.42359425e-01,\n",
       "       -4.04300794e-01,  1.07610822e+00,  1.20596866e+00, -1.45617035e+00,\n",
       "       -1.30033783e+00, -6.25063541e-01, -2.61454310e-01, -8.32840244e-01,\n",
       "       -1.07957508e+00,  8.68331513e-01, -1.04061695e+00,  6.34582722e-01,\n",
       "       -5.47147277e-01, -1.31332387e+00,  1.62152206e+00, -1.15749134e+00,\n",
       "       -4.43258925e-01, -1.07957508e+00,  1.56957789e+00,  1.37478723e+00,\n",
       "       -1.41721222e+00,  5.95624590e-01,  1.16701052e+00,  1.03715008e+00,\n",
       "        2.96945580e-01, -7.67910024e-01,  2.06043272e-01,  1.59554997e+00,\n",
       "        1.82929877e+00,  1.67346624e+00, -1.04061695e+00, -1.57565959e-01,\n",
       "        4.78750195e-01,  3.74861843e-01,  7.38471074e-01, -2.09510134e-01,\n",
       "        1.41374536e+00, -5.08189145e-01, -2.74440354e-01,  2.83959536e-01,\n",
       "        1.36180118e+00, -1.26137969e+00, -8.84784420e-01, -1.43019827e+00,\n",
       "       -7.96496949e-02,  7.77429206e-01,  1.05013613e+00, -7.93882112e-01,\n",
       "       -5.34161233e-01, -1.73343121e-03, -4.17286837e-01, -1.10554717e+00,\n",
       "        2.05006151e+00, -7.54923980e-01,  4.00833931e-01, -1.11853321e+00,\n",
       "        2.70973492e-01, -1.04061695e+00, -1.33929596e+00, -1.14450530e+00,\n",
       "       -1.35228200e+00,  3.35903711e-01, -6.25063541e-01, -2.61454310e-01,\n",
       "        8.81317557e-01, -1.23540761e+00])"
      ]
     },
     "execution_count": 5,
     "metadata": {},
     "output_type": "execute_result"
    }
   ],
   "source": [
    "# Normalise the target data (this will make clearer training curves)\n",
    "targets = (targets - targets.mean(axis=0))/targets.std()\n",
    "targets"
   ]
  },
  {
   "cell_type": "code",
   "execution_count": 6,
   "metadata": {},
   "outputs": [
    {
     "name": "stdout",
     "output_type": "stream",
     "text": [
      "(397, 10)\n",
      "(45, 10)\n",
      "(397,)\n",
      "(45,)\n"
     ]
    }
   ],
   "source": [
    "# Split the data into train and test sets\n",
    "from sklearn.model_selection import train_test_split\n",
    "train_data, test_data, train_targets, test_targets = train_test_split(data, targets, test_size=0.1)\n",
    "\n",
    "print(train_data.shape)\n",
    "print(test_data.shape)\n",
    "print(train_targets.shape)\n",
    "print(test_targets.shape)"
   ]
  },
  {
   "cell_type": "markdown",
   "metadata": {},
   "source": [
    "#### Train a feedforward neural network model"
   ]
  },
  {
   "cell_type": "code",
   "execution_count": 7,
   "metadata": {},
   "outputs": [],
   "source": [
    "# Build the model\n",
    "from tensorflow.keras.models import Sequential\n",
    "from tensorflow.keras.layers import Dense, Flatten\n",
    "\n",
    "\n",
    "def get_model():\n",
    "    model = Sequential()\n",
    "    model.add(Dense(128, activation='relu', input_shape=(train_data.shape[1],)))\n",
    "    model.add(Dense(128, activation='relu'))\n",
    "    model.add(Dense(128, activation='relu'))\n",
    "    model.add(Dense(128, activation='relu'))\n",
    "    model.add(Dense(128, activation='relu'))\n",
    "    model.add(Dense(1))\n",
    "    return model\n",
    "\n",
    "model = get_model()"
   ]
  },
  {
   "cell_type": "code",
   "execution_count": 8,
   "metadata": {},
   "outputs": [
    {
     "name": "stdout",
     "output_type": "stream",
     "text": [
      "Model: \"sequential\"\n",
      "_________________________________________________________________\n",
      "Layer (type)                 Output Shape              Param #   \n",
      "=================================================================\n",
      "dense (Dense)                (None, 128)               1408      \n",
      "_________________________________________________________________\n",
      "dense_1 (Dense)              (None, 128)               16512     \n",
      "_________________________________________________________________\n",
      "dense_2 (Dense)              (None, 128)               16512     \n",
      "_________________________________________________________________\n",
      "dense_3 (Dense)              (None, 128)               16512     \n",
      "_________________________________________________________________\n",
      "dense_4 (Dense)              (None, 128)               16512     \n",
      "_________________________________________________________________\n",
      "dense_5 (Dense)              (None, 1)                 129       \n",
      "=================================================================\n",
      "Total params: 67,585\n",
      "Trainable params: 67,585\n",
      "Non-trainable params: 0\n",
      "_________________________________________________________________\n"
     ]
    }
   ],
   "source": [
    "# Print the model summary\n",
    "model.summary()\n"
   ]
  },
  {
   "cell_type": "code",
   "execution_count": 9,
   "metadata": {},
   "outputs": [],
   "source": [
    "# Compile the model\n",
    "\n",
    "model.compile(optimizer='adam', loss='mse', metrics=['mse'])"
   ]
  },
  {
   "cell_type": "code",
   "execution_count": 11,
   "metadata": {},
   "outputs": [],
   "source": [
    "# Train the model, with some of the data reserved for validation\n",
    "history = model.fit(train_data, train_targets, epochs=100, validation_split=0.15, verbose=False)"
   ]
  },
  {
   "cell_type": "code",
   "execution_count": 12,
   "metadata": {},
   "outputs": [
    {
     "name": "stdout",
     "output_type": "stream",
     "text": [
      "45/1 - 0s - loss: 1.1820 - mse: 1.0309\n"
     ]
    },
    {
     "data": {
      "text/plain": [
       "[1.0308735609054565, 1.0308737]"
      ]
     },
     "execution_count": 12,
     "metadata": {},
     "output_type": "execute_result"
    }
   ],
   "source": [
    "# Evaluate the model on the test set\n",
    "model.evaluate(test_data, test_targets, verbose=2)"
   ]
  },
  {
   "cell_type": "markdown",
   "metadata": {},
   "source": [
    "#### Plot the learning curves"
   ]
  },
  {
   "cell_type": "code",
   "execution_count": 13,
   "metadata": {},
   "outputs": [],
   "source": [
    "import matplotlib.pyplot as plt\n",
    "%matplotlib inline"
   ]
  },
  {
   "cell_type": "code",
   "execution_count": 14,
   "metadata": {},
   "outputs": [
    {
     "data": {
      "image/png": "[encoded data removed]",
      "text/plain": [
       "<Figure size 432x288 with 1 Axes>"
      ]
     },
     "metadata": {
      "needs_background": "light"
     },
     "output_type": "display_data"
    }
   ],
   "source": [
    "# Plot the training and validation loss\n",
    "\n",
    "plt.plot(history.history['loss'])\n",
    "plt.plot(history.history['val_loss'])\n",
    "plt.title('Loss vs. epochs')\n",
    "plt.ylabel('Loss')\n",
    "plt.xlabel('Epoch')\n",
    "plt.legend(['Training', 'Validation'], loc='upper right')\n",
    "plt.show()"
   ]
  },
  {
   "cell_type": "markdown",
   "metadata": {},
   "source": [
    "***\n",
    "<a id=\"coding_tutorial_2\"></a>\n",
    "## Model regularisation"
   ]
  },
  {
   "cell_type": "markdown",
   "metadata": {},
   "source": [
    "#### Adding regularisation with weight decay and dropout"
   ]
  },
  {
   "cell_type": "code",
   "execution_count": 15,
   "metadata": {},
   "outputs": [],
   "source": [
    "from tensorflow.keras.layers import Dropout\n",
    "from tensorflow.keras import regularizers"
   ]
  },
  {
   "cell_type": "code",
   "execution_count": 16,
   "metadata": {},
   "outputs": [],
   "source": [
    "def get_regularised_model(wd, rate):\n",
    "    model = Sequential([\n",
    "        Dense(128, kernel_regularizer=regularizers.l1_l2(wd, wd), activation=\"relu\", input_shape=(train_data.shape[1],)),\n",
    "        Dropout(rate),\n",
    "        Dense(128, kernel_regularizer=regularizers.l1_l2(wd, wd), activation=\"relu\"),\n",
    "        Dropout(rate),\n",
    "        Dense(128, kernel_regularizer=regularizers.l1_l2(wd, wd), activation=\"relu\"),\n",
    "        Dropout(rate),\n",
    "        Dense(128, kernel_regularizer=regularizers.l1_l2(wd, wd), activation=\"relu\"),\n",
    "        Dropout(rate),\n",
    "        Dense(128, kernel_regularizer=regularizers.l1_l2(wd, wd), activation=\"relu\"),\n",
    "        Dropout(rate),\n",
    "        Dense(128, kernel_regularizer=regularizers.l1_l2(wd, wd), activation=\"relu\"),\n",
    "        Dense(1)\n",
    "    ])\n",
    "    return model"
   ]
  },
  {
   "cell_type": "code",
   "execution_count": 17,
   "metadata": {},
   "outputs": [],
   "source": [
    "# Re-build the model with weight decay and dropout layers\n",
    "model = get_regularised_model(1e-5, 0.3)"
   ]
  },
  {
   "cell_type": "code",
   "execution_count": 18,
   "metadata": {},
   "outputs": [],
   "source": [
    "# Compile the model\n",
    "model.compile(optimizer='adam', loss='mse', metrics=['mse'])\n"
   ]
  },
  {
   "cell_type": "code",
   "execution_count": 19,
   "metadata": {},
   "outputs": [
    {
     "name": "stdout",
     "output_type": "stream",
     "text": [
      "Train on 337 samples, validate on 60 samples\n",
      "Epoch 1/100\n",
      "337/337 [==============================] - 2s 6ms/sample - loss: 1.0895 - mse: 1.0192 - val_loss: 1.0097 - val_mse: 0.9399\n",
      "Epoch 2/100\n",
      "337/337 [==============================] - 0s 552us/sample - loss: 1.0736 - mse: 1.0040 - val_loss: 0.9810 - val_mse: 0.9119\n",
      "Epoch 3/100\n",
      "337/337 [==============================] - 0s 577us/sample - loss: 1.0177 - mse: 0.9488 - val_loss: 0.8643 - val_mse: 0.7958\n",
      "Epoch 4/100\n",
      "337/337 [==============================] - 0s 330us/sample - loss: 0.8745 - mse: 0.8062 - val_loss: 0.7191 - val_mse: 0.6510\n",
      "Epoch 5/100\n",
      "337/337 [==============================] - 0s 582us/sample - loss: 0.7280 - mse: 0.6600 - val_loss: 0.6559 - val_mse: 0.5882\n",
      "Epoch 6/100\n",
      "337/337 [==============================] - 0s 588us/sample - loss: 0.6856 - mse: 0.6180 - val_loss: 0.6484 - val_mse: 0.5810\n",
      "Epoch 7/100\n",
      "337/337 [==============================] - 0s 592us/sample - loss: 0.6452 - mse: 0.5780 - val_loss: 0.6845 - val_mse: 0.6176\n",
      "Epoch 8/100\n",
      "337/337 [==============================] - 0s 589us/sample - loss: 0.6129 - mse: 0.5460 - val_loss: 0.6011 - val_mse: 0.5344\n",
      "Epoch 9/100\n",
      "337/337 [==============================] - 0s 573us/sample - loss: 0.6135 - mse: 0.5470 - val_loss: 0.6694 - val_mse: 0.6031\n",
      "Epoch 10/100\n",
      "337/337 [==============================] - 0s 586us/sample - loss: 0.5722 - mse: 0.5059 - val_loss: 0.6506 - val_mse: 0.5845\n",
      "Epoch 11/100\n",
      "337/337 [==============================] - 0s 332us/sample - loss: 0.5676 - mse: 0.5017 - val_loss: 0.6317 - val_mse: 0.5660\n",
      "Epoch 12/100\n",
      "337/337 [==============================] - 0s 591us/sample - loss: 0.5734 - mse: 0.5078 - val_loss: 0.6434 - val_mse: 0.5780\n",
      "Epoch 13/100\n",
      "337/337 [==============================] - 0s 591us/sample - loss: 0.5953 - mse: 0.5299 - val_loss: 0.6048 - val_mse: 0.5397\n",
      "Epoch 14/100\n",
      "337/337 [==============================] - 0s 586us/sample - loss: 0.5520 - mse: 0.4869 - val_loss: 0.6166 - val_mse: 0.5517\n",
      "Epoch 15/100\n",
      "337/337 [==============================] - 0s 588us/sample - loss: 0.5507 - mse: 0.4859 - val_loss: 0.5846 - val_mse: 0.5199\n",
      "Epoch 16/100\n",
      "337/337 [==============================] - 0s 601us/sample - loss: 0.5456 - mse: 0.4811 - val_loss: 0.5898 - val_mse: 0.5255\n",
      "Epoch 17/100\n",
      "337/337 [==============================] - 0s 580us/sample - loss: 0.5763 - mse: 0.5120 - val_loss: 0.5821 - val_mse: 0.5180\n",
      "Epoch 18/100\n",
      "337/337 [==============================] - 0s 576us/sample - loss: 0.5583 - mse: 0.4943 - val_loss: 0.6142 - val_mse: 0.5503\n",
      "Epoch 19/100\n",
      "337/337 [==============================] - 0s 582us/sample - loss: 0.5419 - mse: 0.4781 - val_loss: 0.5837 - val_mse: 0.5200\n",
      "Epoch 20/100\n",
      "337/337 [==============================] - 0s 330us/sample - loss: 0.5492 - mse: 0.4857 - val_loss: 0.6196 - val_mse: 0.5562\n",
      "Epoch 21/100\n",
      "337/337 [==============================] - 0s 585us/sample - loss: 0.5709 - mse: 0.5076 - val_loss: 0.5968 - val_mse: 0.5337\n",
      "Epoch 22/100\n",
      "337/337 [==============================] - 0s 584us/sample - loss: 0.5401 - mse: 0.4770 - val_loss: 0.6172 - val_mse: 0.5544\n",
      "Epoch 23/100\n",
      "337/337 [==============================] - 0s 574us/sample - loss: 0.5524 - mse: 0.4895 - val_loss: 0.5929 - val_mse: 0.5302\n",
      "Epoch 24/100\n",
      "337/337 [==============================] - 0s 330us/sample - loss: 0.5195 - mse: 0.4569 - val_loss: 0.6079 - val_mse: 0.5454\n",
      "Epoch 25/100\n",
      "337/337 [==============================] - 0s 577us/sample - loss: 0.5309 - mse: 0.4685 - val_loss: 0.5949 - val_mse: 0.5327\n",
      "Epoch 26/100\n",
      "337/337 [==============================] - 0s 585us/sample - loss: 0.5002 - mse: 0.4381 - val_loss: 0.6255 - val_mse: 0.5635\n",
      "Epoch 27/100\n",
      "337/337 [==============================] - 0s 319us/sample - loss: 0.5538 - mse: 0.4918 - val_loss: 0.6160 - val_mse: 0.5542\n",
      "Epoch 28/100\n",
      "337/337 [==============================] - 0s 586us/sample - loss: 0.5165 - mse: 0.4547 - val_loss: 0.6230 - val_mse: 0.5614\n",
      "Epoch 29/100\n",
      "337/337 [==============================] - 0s 582us/sample - loss: 0.4965 - mse: 0.4350 - val_loss: 0.5716 - val_mse: 0.5102\n",
      "Epoch 30/100\n",
      "337/337 [==============================] - 0s 587us/sample - loss: 0.5116 - mse: 0.4502 - val_loss: 0.6090 - val_mse: 0.5477\n",
      "Epoch 31/100\n",
      "337/337 [==============================] - 0s 576us/sample - loss: 0.5172 - mse: 0.4561 - val_loss: 0.6132 - val_mse: 0.5521\n",
      "Epoch 32/100\n",
      "337/337 [==============================] - 0s 333us/sample - loss: 0.4856 - mse: 0.4246 - val_loss: 0.5734 - val_mse: 0.5125\n",
      "Epoch 33/100\n",
      "337/337 [==============================] - 0s 574us/sample - loss: 0.5197 - mse: 0.4589 - val_loss: 0.6203 - val_mse: 0.5596\n",
      "Epoch 34/100\n",
      "337/337 [==============================] - 0s 595us/sample - loss: 0.4989 - mse: 0.4383 - val_loss: 0.6104 - val_mse: 0.5499\n",
      "Epoch 35/100\n",
      "337/337 [==============================] - 0s 580us/sample - loss: 0.5093 - mse: 0.4488 - val_loss: 0.6332 - val_mse: 0.5729\n",
      "Epoch 36/100\n",
      "337/337 [==============================] - 0s 315us/sample - loss: 0.4994 - mse: 0.4391 - val_loss: 0.6047 - val_mse: 0.5445\n",
      "Epoch 37/100\n",
      "337/337 [==============================] - 0s 332us/sample - loss: 0.4914 - mse: 0.4312 - val_loss: 0.6724 - val_mse: 0.6124\n",
      "Epoch 38/100\n",
      "337/337 [==============================] - 0s 579us/sample - loss: 0.4845 - mse: 0.4246 - val_loss: 0.6373 - val_mse: 0.5774\n",
      "Epoch 39/100\n",
      "337/337 [==============================] - 0s 585us/sample - loss: 0.4831 - mse: 0.4233 - val_loss: 0.6230 - val_mse: 0.5633\n",
      "Epoch 40/100\n",
      "337/337 [==============================] - 0s 325us/sample - loss: 0.4701 - mse: 0.4104 - val_loss: 0.6262 - val_mse: 0.5667\n",
      "Epoch 41/100\n",
      "337/337 [==============================] - 0s 581us/sample - loss: 0.4609 - mse: 0.4014 - val_loss: 0.6644 - val_mse: 0.6050\n",
      "Epoch 42/100\n",
      "337/337 [==============================] - 0s 577us/sample - loss: 0.4926 - mse: 0.4333 - val_loss: 0.6166 - val_mse: 0.5574\n",
      "Epoch 43/100\n",
      "337/337 [==============================] - 0s 575us/sample - loss: 0.4566 - mse: 0.3974 - val_loss: 0.6505 - val_mse: 0.5914\n",
      "Epoch 44/100\n",
      "337/337 [==============================] - 0s 326us/sample - loss: 0.4726 - mse: 0.4136 - val_loss: 0.6187 - val_mse: 0.5598\n",
      "Epoch 45/100\n",
      "337/337 [==============================] - 0s 587us/sample - loss: 0.4679 - mse: 0.4090 - val_loss: 0.6722 - val_mse: 0.6134\n",
      "Epoch 46/100\n",
      "337/337 [==============================] - 0s 583us/sample - loss: 0.4557 - mse: 0.3970 - val_loss: 0.6829 - val_mse: 0.6242\n",
      "Epoch 47/100\n",
      "337/337 [==============================] - 0s 317us/sample - loss: 0.4658 - mse: 0.4072 - val_loss: 0.6945 - val_mse: 0.6360\n",
      "Epoch 48/100\n",
      "337/337 [==============================] - 0s 576us/sample - loss: 0.4743 - mse: 0.4158 - val_loss: 0.6386 - val_mse: 0.5802\n",
      "Epoch 49/100\n",
      "337/337 [==============================] - 0s 588us/sample - loss: 0.4716 - mse: 0.4133 - val_loss: 0.5740 - val_mse: 0.5158\n",
      "Epoch 50/100\n",
      "337/337 [==============================] - 0s 584us/sample - loss: 0.5099 - mse: 0.4517 - val_loss: 0.7239 - val_mse: 0.6658\n",
      "Epoch 51/100\n",
      "337/337 [==============================] - 0s 325us/sample - loss: 0.4770 - mse: 0.4190 - val_loss: 0.5595 - val_mse: 0.5015\n",
      "Epoch 52/100\n",
      "337/337 [==============================] - 0s 332us/sample - loss: 0.4751 - mse: 0.4172 - val_loss: 0.7103 - val_mse: 0.6524\n",
      "Epoch 53/100\n",
      "337/337 [==============================] - 0s 577us/sample - loss: 0.4694 - mse: 0.4115 - val_loss: 0.6849 - val_mse: 0.6272\n",
      "Epoch 54/100\n",
      "337/337 [==============================] - 0s 575us/sample - loss: 0.4448 - mse: 0.3871 - val_loss: 0.5915 - val_mse: 0.5339\n",
      "Epoch 55/100\n",
      "337/337 [==============================] - 0s 334us/sample - loss: 0.4642 - mse: 0.4067 - val_loss: 0.6924 - val_mse: 0.6350\n",
      "Epoch 56/100\n",
      "337/337 [==============================] - 0s 580us/sample - loss: 0.4586 - mse: 0.4012 - val_loss: 0.6456 - val_mse: 0.5883\n",
      "Epoch 57/100\n",
      "337/337 [==============================] - 0s 584us/sample - loss: 0.4484 - mse: 0.3910 - val_loss: 0.6183 - val_mse: 0.5611\n",
      "Epoch 58/100\n",
      "337/337 [==============================] - 0s 571us/sample - loss: 0.4322 - mse: 0.3750 - val_loss: 0.6184 - val_mse: 0.5613\n",
      "Epoch 59/100\n",
      "337/337 [==============================] - 0s 333us/sample - loss: 0.4339 - mse: 0.3768 - val_loss: 0.6179 - val_mse: 0.5609\n",
      "Epoch 60/100\n",
      "337/337 [==============================] - 0s 580us/sample - loss: 0.4127 - mse: 0.3558 - val_loss: 0.6315 - val_mse: 0.5747\n",
      "Epoch 61/100\n",
      "337/337 [==============================] - 0s 580us/sample - loss: 0.4471 - mse: 0.3903 - val_loss: 0.6812 - val_mse: 0.6245\n",
      "Epoch 62/100\n",
      "337/337 [==============================] - 0s 586us/sample - loss: 0.4356 - mse: 0.3789 - val_loss: 0.6394 - val_mse: 0.5827\n",
      "Epoch 63/100\n",
      "337/337 [==============================] - 0s 326us/sample - loss: 0.4125 - mse: 0.3559 - val_loss: 0.6669 - val_mse: 0.6104\n",
      "Epoch 64/100\n",
      "337/337 [==============================] - 0s 588us/sample - loss: 0.4307 - mse: 0.3743 - val_loss: 0.6198 - val_mse: 0.5634\n",
      "Epoch 65/100\n",
      "337/337 [==============================] - 0s 585us/sample - loss: 0.4322 - mse: 0.3759 - val_loss: 0.6794 - val_mse: 0.6231\n",
      "Epoch 66/100\n",
      "337/337 [==============================] - 0s 577us/sample - loss: 0.4054 - mse: 0.3491 - val_loss: 0.6554 - val_mse: 0.5992\n",
      "Epoch 67/100\n",
      "337/337 [==============================] - 0s 317us/sample - loss: 0.4284 - mse: 0.3723 - val_loss: 0.6224 - val_mse: 0.5664\n",
      "Epoch 68/100\n",
      "337/337 [==============================] - 0s 587us/sample - loss: 0.4196 - mse: 0.3637 - val_loss: 0.6742 - val_mse: 0.6182\n",
      "Epoch 69/100\n",
      "337/337 [==============================] - 0s 585us/sample - loss: 0.4147 - mse: 0.3588 - val_loss: 0.6471 - val_mse: 0.5912\n",
      "Epoch 70/100\n",
      "337/337 [==============================] - 0s 582us/sample - loss: 0.4093 - mse: 0.3535 - val_loss: 0.6382 - val_mse: 0.5825\n",
      "Epoch 71/100\n",
      "337/337 [==============================] - 0s 314us/sample - loss: 0.3983 - mse: 0.3426 - val_loss: 0.6667 - val_mse: 0.6111\n",
      "Epoch 72/100\n",
      "337/337 [==============================] - 0s 579us/sample - loss: 0.4265 - mse: 0.3709 - val_loss: 0.6816 - val_mse: 0.6261\n",
      "Epoch 73/100\n",
      "337/337 [==============================] - 0s 586us/sample - loss: 0.4364 - mse: 0.3809 - val_loss: 0.6433 - val_mse: 0.5880\n",
      "Epoch 74/100\n",
      "337/337 [==============================] - 0s 580us/sample - loss: 0.4080 - mse: 0.3526 - val_loss: 0.6313 - val_mse: 0.5760\n",
      "Epoch 75/100\n",
      "337/337 [==============================] - 0s 329us/sample - loss: 0.3931 - mse: 0.3379 - val_loss: 0.6675 - val_mse: 0.6123\n",
      "Epoch 76/100\n",
      "337/337 [==============================] - 0s 580us/sample - loss: 0.3832 - mse: 0.3280 - val_loss: 0.6490 - val_mse: 0.5938\n",
      "Epoch 77/100\n",
      "337/337 [==============================] - 0s 584us/sample - loss: 0.4198 - mse: 0.3647 - val_loss: 0.6972 - val_mse: 0.6421\n",
      "Epoch 78/100\n",
      "337/337 [==============================] - 0s 572us/sample - loss: 0.4275 - mse: 0.3725 - val_loss: 0.5826 - val_mse: 0.5277\n",
      "Epoch 79/100\n",
      "337/337 [==============================] - 0s 335us/sample - loss: 0.4271 - mse: 0.3722 - val_loss: 0.5787 - val_mse: 0.5239\n",
      "Epoch 80/100\n",
      "337/337 [==============================] - 0s 577us/sample - loss: 0.3914 - mse: 0.3367 - val_loss: 0.6800 - val_mse: 0.6253\n",
      "Epoch 81/100\n",
      "337/337 [==============================] - 0s 583us/sample - loss: 0.4151 - mse: 0.3604 - val_loss: 0.5999 - val_mse: 0.5453\n",
      "Epoch 82/100\n",
      "337/337 [==============================] - 0s 573us/sample - loss: 0.4147 - mse: 0.3601 - val_loss: 0.6516 - val_mse: 0.5970\n",
      "Epoch 83/100\n",
      "337/337 [==============================] - 0s 330us/sample - loss: 0.4200 - mse: 0.3655 - val_loss: 0.6226 - val_mse: 0.5681\n",
      "Epoch 84/100\n",
      "337/337 [==============================] - 0s 585us/sample - loss: 0.3830 - mse: 0.3286 - val_loss: 0.6023 - val_mse: 0.5479\n",
      "Epoch 85/100\n",
      "337/337 [==============================] - 0s 586us/sample - loss: 0.3713 - mse: 0.3170 - val_loss: 0.6079 - val_mse: 0.5536\n",
      "Epoch 86/100\n",
      "337/337 [==============================] - 0s 583us/sample - loss: 0.3967 - mse: 0.3424 - val_loss: 0.6332 - val_mse: 0.5790\n",
      "Epoch 87/100\n",
      "337/337 [==============================] - 0s 316us/sample - loss: 0.3969 - mse: 0.3427 - val_loss: 0.6292 - val_mse: 0.5751\n",
      "Epoch 88/100\n",
      "337/337 [==============================] - 0s 584us/sample - loss: 0.4162 - mse: 0.3621 - val_loss: 0.6583 - val_mse: 0.6042\n",
      "Epoch 89/100\n",
      "337/337 [==============================] - 0s 577us/sample - loss: 0.3849 - mse: 0.3308 - val_loss: 0.6563 - val_mse: 0.6024\n",
      "Epoch 90/100\n",
      "337/337 [==============================] - 0s 573us/sample - loss: 0.3918 - mse: 0.3379 - val_loss: 0.6495 - val_mse: 0.5956\n",
      "Epoch 91/100\n",
      "337/337 [==============================] - 0s 330us/sample - loss: 0.3452 - mse: 0.2913 - val_loss: 0.7033 - val_mse: 0.6495\n",
      "Epoch 92/100\n",
      "337/337 [==============================] - 0s 581us/sample - loss: 0.3877 - mse: 0.3338 - val_loss: 0.6624 - val_mse: 0.6087\n",
      "Epoch 93/100\n",
      "337/337 [==============================] - 0s 585us/sample - loss: 0.3961 - mse: 0.3423 - val_loss: 0.6404 - val_mse: 0.5867\n",
      "Epoch 94/100\n",
      "337/337 [==============================] - 0s 322us/sample - loss: 0.3820 - mse: 0.3284 - val_loss: 0.6464 - val_mse: 0.5929\n",
      "Epoch 95/100\n",
      "337/337 [==============================] - 0s 333us/sample - loss: 0.3891 - mse: 0.3356 - val_loss: 0.6290 - val_mse: 0.5755\n",
      "Epoch 96/100\n",
      "337/337 [==============================] - 0s 586us/sample - loss: 0.3666 - mse: 0.3131 - val_loss: 0.6227 - val_mse: 0.5693\n",
      "Epoch 97/100\n",
      "337/337 [==============================] - 0s 576us/sample - loss: 0.3734 - mse: 0.3199 - val_loss: 0.7077 - val_mse: 0.6543\n",
      "Epoch 98/100\n",
      "337/337 [==============================] - 0s 589us/sample - loss: 0.3379 - mse: 0.2845 - val_loss: 0.6104 - val_mse: 0.5571\n",
      "Epoch 99/100\n",
      "337/337 [==============================] - 0s 579us/sample - loss: 0.3538 - mse: 0.3005 - val_loss: 0.7997 - val_mse: 0.7464\n",
      "Epoch 100/100\n",
      "337/337 [==============================] - 0s 332us/sample - loss: 0.3446 - mse: 0.2913 - val_loss: 0.5942 - val_mse: 0.5410\n"
     ]
    },
    {
     "data": {
      "text/plain": [
       "<tensorflow.python.keras.callbacks.History at 0x7f99b87d60f0>"
      ]
     },
     "execution_count": 19,
     "metadata": {},
     "output_type": "execute_result"
    }
   ],
   "source": [
    "# Train the model, with some of the data reserved for validation\n",
    "model.fit(train_data, train_targets, epochs=100, validation_split=0.15, batch_size=64, verbose=1)\n"
   ]
  },
  {
   "cell_type": "code",
   "execution_count": 20,
   "metadata": {},
   "outputs": [
    {
     "data": {
      "text/plain": [
       "[0.8170562505722045, 0.7638578]"
      ]
     },
     "execution_count": 20,
     "metadata": {},
     "output_type": "execute_result"
    }
   ],
   "source": [
    "# Evaluate the model on the test set\n",
    "model.evaluate(test_data, test_targets, verbose=False)\n"
   ]
  },
  {
   "cell_type": "markdown",
   "metadata": {},
   "source": [
    "#### Plot the learning curves"
   ]
  },
  {
   "cell_type": "code",
   "execution_count": 21,
   "metadata": {},
   "outputs": [
    {
     "data": {
      "image/png": "[encoded data removed]",
      "text/plain": [
       "<Figure size 432x288 with 1 Axes>"
      ]
     },
     "metadata": {
      "needs_background": "light"
     },
     "output_type": "display_data"
    }
   ],
   "source": [
    "# Plot the training and validation loss\n",
    "\n",
    "import matplotlib.pyplot as plt\n",
    "\n",
    "plt.plot(history.history['loss'])\n",
    "plt.plot(history.history['val_loss'])\n",
    "plt.title('Loss vs. epochs')\n",
    "plt.ylabel('Loss')\n",
    "plt.xlabel('Epoch')\n",
    "plt.legend(['Training', 'Validation'], loc='upper right')\n",
    "plt.show()"
   ]
  },
  {
   "cell_type": "markdown",
   "metadata": {},
   "source": [
    "***\n",
    "<a id=\"coding_tutorial_3\"></a>\n",
    "## Introduction to callbacks"
   ]
  },
  {
   "cell_type": "markdown",
   "metadata": {},
   "source": [
    "#### Example training callback"
   ]
  },
  {
   "cell_type": "code",
   "execution_count": 28,
   "metadata": {},
   "outputs": [],
   "source": [
    "# Write a custom callback\n",
    "from tensorflow.keras.callbacks import Callback\n",
    "\n",
    "class TrainingCallbacks(Callback):\n",
    "    def on_train_begin(self, logs=None):\n",
    "        print(\"Starting training...\")\n",
    "        \n",
    "    def on_train_epoch_begin(self, epoch, logs=None):\n",
    "        print(\"Training: Starting epoch {}\".format(epoch))\n",
    "    \n",
    "    def on_train_batch_begin(self, batch, logs=None):\n",
    "        print(\"Training: Starting betch {}\".format(batch))\n",
    "        \n",
    "    def on_train_batch_end(self, batch, logs=None):\n",
    "        print(\"Training: Ending batch {}\".format(batch))\n",
    "\n",
    "    def on_train_epoch_end(self, epoch, logs=None):\n",
    "        print(\"Training: Ending epoch {}\".format(epoch))\n",
    "    \n",
    "    def on_train_end(self, log=None):\n",
    "        print(\"Finish training...\")\n",
    "\n",
    "# Contains no epoch\n",
    "class TestingCallbacks(Callback):\n",
    "    def on_test_begin(self, logs=None):\n",
    "        print(\"Starting training...\")\n",
    "    \n",
    "    def on_test_batch_begin(self, batch, logs=None):\n",
    "        print(\"Training: Starting betch {}\".format(batch))\n",
    "        \n",
    "    def on_test_batch_end(self, batch, logs=None):\n",
    "        print(\"Training: Ending batch {}\".format(batch))\n",
    "    \n",
    "    def on_test_end(self, log=None):\n",
    "        print(\"Finish training...\")\n",
    "\n",
    "# Contains no epoch, no batch\n",
    "class PredictionCallbacks(Callback):\n",
    "    def on_predict_begin(self, logs=None):\n",
    "        print(\"Starting training...\")\n",
    "    \n",
    "    def on_predict_end(self, log=None):\n",
    "        print(\"Finish training...\")\n",
    "    "
   ]
  },
  {
   "cell_type": "code",
   "execution_count": 29,
   "metadata": {},
   "outputs": [],
   "source": [
    "# Re-build the model\n",
    "model = get_regularised_model(1e-5, 0.3)"
   ]
  },
  {
   "cell_type": "code",
   "execution_count": 30,
   "metadata": {},
   "outputs": [],
   "source": [
    "# Compile the model\n",
    "model.compile(optimizer='adam', loss='mse')\n"
   ]
  },
  {
   "cell_type": "markdown",
   "metadata": {},
   "source": [
    "#### Train the model with the callback"
   ]
  },
  {
   "cell_type": "code",
   "execution_count": 31,
   "metadata": {},
   "outputs": [
    {
     "name": "stdout",
     "output_type": "stream",
     "text": [
      "Starting training...\n",
      "Training: Starting betch 0\n",
      "Training: Ending batch 0\n",
      "Training: Starting betch 1\n",
      "Training: Ending batch 1\n",
      "Training: Starting betch 2\n",
      "Training: Ending batch 2\n",
      "Training: Starting betch 3\n",
      "Training: Ending batch 3\n",
      "Training: Starting betch 0\n",
      "Training: Ending batch 0\n",
      "Training: Starting betch 1\n",
      "Training: Ending batch 1\n",
      "Training: Starting betch 2\n",
      "Training: Ending batch 2\n",
      "Training: Starting betch 3\n",
      "Training: Ending batch 3\n",
      "Training: Starting betch 0\n",
      "Training: Ending batch 0\n",
      "Training: Starting betch 1\n",
      "Training: Ending batch 1\n",
      "Training: Starting betch 2\n",
      "Training: Ending batch 2\n",
      "Training: Starting betch 3\n",
      "Training: Ending batch 3\n",
      "Finish training...\n"
     ]
    },
    {
     "data": {
      "text/plain": [
       "<tensorflow.python.keras.callbacks.History at 0x7f99185c5208>"
      ]
     },
     "execution_count": 31,
     "metadata": {},
     "output_type": "execute_result"
    }
   ],
   "source": [
    "# Train the model, with some of the data reserved for validation\n",
    "model.fit(train_data, train_targets, epochs=3, batch_size=128, verbose=False, callbacks=[TrainingCallbacks()])"
   ]
  },
  {
   "cell_type": "code",
   "execution_count": 32,
   "metadata": {},
   "outputs": [
    {
     "name": "stdout",
     "output_type": "stream",
     "text": [
      "Starting training...\n",
      "Training: Starting betch 0\n",
      "Training: Ending batch 0\n",
      "Training: Starting betch 1\n",
      "Training: Ending batch 1\n",
      "Finish training...\n"
     ]
    },
    {
     "data": {
      "text/plain": [
       "0.9375426001018948"
      ]
     },
     "execution_count": 32,
     "metadata": {},
     "output_type": "execute_result"
    }
   ],
   "source": [
    "# Evaluate the model\n",
    "model.evaluate(test_data, test_targets, verbose=False, callbacks=[TestingCallbacks()])"
   ]
  },
  {
   "cell_type": "code",
   "execution_count": 34,
   "metadata": {},
   "outputs": [
    {
     "name": "stdout",
     "output_type": "stream",
     "text": [
      "Starting training...\n",
      "Finish training...\n"
     ]
    },
    {
     "data": {
      "text/plain": [
       "array([[ 0.03226118],\n",
       "       [-0.01420988],\n",
       "       [ 0.04444126],\n",
       "       [ 0.10073065],\n",
       "       [ 0.02882545],\n",
       "       [-0.06076197],\n",
       "       [-0.04634317],\n",
       "       [ 0.01654706],\n",
       "       [-0.04457604],\n",
       "       [ 0.05588304],\n",
       "       [-0.01225823],\n",
       "       [-0.02154528],\n",
       "       [ 0.05919605],\n",
       "       [ 0.08992133],\n",
       "       [-0.04938813],\n",
       "       [ 0.06457143],\n",
       "       [-0.04551258],\n",
       "       [-0.05519424],\n",
       "       [ 0.0719762 ],\n",
       "       [ 0.00103078],\n",
       "       [ 0.05563036],\n",
       "       [ 0.04692883],\n",
       "       [ 0.07613321],\n",
       "       [-0.04307739],\n",
       "       [ 0.07259019],\n",
       "       [-0.04029458],\n",
       "       [-0.03352893],\n",
       "       [-0.0461181 ],\n",
       "       [-0.03389696],\n",
       "       [ 0.07532933],\n",
       "       [-0.04506593],\n",
       "       [-0.04131549],\n",
       "       [ 0.13017175],\n",
       "       [ 0.10086494],\n",
       "       [ 0.09093145],\n",
       "       [ 0.02906269],\n",
       "       [ 0.00516362],\n",
       "       [ 0.11050185],\n",
       "       [ 0.05113698],\n",
       "       [ 0.05383497],\n",
       "       [ 0.03225778],\n",
       "       [ 0.01572988],\n",
       "       [-0.03212334],\n",
       "       [-0.05456719],\n",
       "       [-0.00323803]], dtype=float32)"
      ]
     },
     "execution_count": 34,
     "metadata": {},
     "output_type": "execute_result"
    }
   ],
   "source": [
    "# Make predictions with the model\n",
    "model.predict(test_data, verbose=False, callbacks=[PredictionCallbacks()])"
   ]
  },
  {
   "cell_type": "markdown",
   "metadata": {},
   "source": [
    "***\n",
    "<a id=\"coding_tutorial_4\"></a>\n",
    "## Early stopping / patience"
   ]
  },
  {
   "cell_type": "markdown",
   "metadata": {},
   "source": [
    "#### Re-train the models with early stopping"
   ]
  },
  {
   "cell_type": "code",
   "execution_count": 27,
   "metadata": {},
   "outputs": [],
   "source": [
    "# Re-train the unregularised model\n",
    "unregularised_model = get_model()\n",
    "unregularised_model.compile(optimizer='adam', loss='mse')\n",
    "unreg_history = unregularised_model.fit(train_data, train_targets, \n",
    "                                        epochs=100,\n",
    "                                       validation_split=0.15,\n",
    "                                       batch_size=64,\n",
    "                                       verbose=False,\n",
    "                                       callbacks=[tf.keras.callbacks.EarlyStopping(patience=2)])"
   ]
  },
  {
   "cell_type": "code",
   "execution_count": 28,
   "metadata": {},
   "outputs": [
    {
     "name": "stdout",
     "output_type": "stream",
     "text": [
      "45/1 - 0s - loss: 0.4890\n"
     ]
    },
    {
     "data": {
      "text/plain": [
       "0.5260577645566729"
      ]
     },
     "execution_count": 28,
     "metadata": {},
     "output_type": "execute_result"
    }
   ],
   "source": [
    "# Evaluate the model on the test set\n",
    "unregularised_model.evaluate(test_data, test_targets, verbose=2)"
   ]
  },
  {
   "cell_type": "code",
   "execution_count": 29,
   "metadata": {},
   "outputs": [],
   "source": [
    "# Re-train the regularised model\n",
    "regularised_model = get_regularised_model(1e-5, 0.2)\n",
    "regularised_model.compile(optimizer='adam', loss='mse')\n",
    "reg_history = regularised_model.fit(train_data, train_targets,\n",
    "                                           epochs=100,\n",
    "                                           validation_split=0.15,\n",
    "                                           batch_size=64,\n",
    "                                           verbose=False,\n",
    "                                           callbacks=[tf.keras.callbacks.EarlyStopping(patience=2)])\n"
   ]
  },
  {
   "cell_type": "code",
   "execution_count": 30,
   "metadata": {},
   "outputs": [
    {
     "name": "stdout",
     "output_type": "stream",
     "text": [
      "45/1 - 0s - loss: 0.5776\n"
     ]
    },
    {
     "data": {
      "text/plain": [
       "0.5816100305981107"
      ]
     },
     "execution_count": 30,
     "metadata": {},
     "output_type": "execute_result"
    }
   ],
   "source": [
    "# Evaluate the model on the test set\n",
    "regularised_model.evaluate(test_data, test_targets, verbose=2)\n"
   ]
  },
  {
   "cell_type": "markdown",
   "metadata": {},
   "source": [
    "#### Plot the learning curves"
   ]
  },
  {
   "cell_type": "code",
   "execution_count": 31,
   "metadata": {},
   "outputs": [
    {
     "data": {
      "image/png": "[encoded data removed]",
      "text/plain": [
       "<Figure size 864x360 with 2 Axes>"
      ]
     },
     "metadata": {
      "needs_background": "light"
     },
     "output_type": "display_data"
    }
   ],
   "source": [
    "# Plot the training and validation loss\n",
    "\n",
    "import matplotlib.pyplot as plt\n",
    "\n",
    "fig = plt.figure(figsize=(12, 5))\n",
    "\n",
    "fig.add_subplot(121)\n",
    "\n",
    "plt.plot(unreg_history.history['loss'])\n",
    "plt.plot(unreg_history.history['val_loss'])\n",
    "plt.title('Unregularised model: loss vs. epochs')\n",
    "plt.ylabel('Loss')\n",
    "plt.xlabel('Epoch')\n",
    "plt.legend(['Training', 'Validation'], loc='upper right')\n",
    "\n",
    "fig.add_subplot(122)\n",
    "\n",
    "plt.plot(reg_history.history['loss'])\n",
    "plt.plot(reg_history.history['val_loss'])\n",
    "plt.title('Regularised model: loss vs. epochs')\n",
    "plt.ylabel('Loss')\n",
    "plt.xlabel('Epoch')\n",
    "plt.legend(['Training', 'Validation'], loc='upper right')\n",
    "\n",
    "plt.show()"
   ]
  }
 ],
 "metadata": {
  "kernelspec": {
   "display_name": "Python 3",
   "language": "python",
   "name": "python3"
  },
  "language_info": {
   "codemirror_mode": {
    "name": "ipython",
    "version": 3
   },
   "file_extension": ".py",
   "mimetype": "text/x-python",
   "name": "python",
   "nbconvert_exporter": "python",
   "pygments_lexer": "ipython3",
   "version": "3.7.1"
  }
 },
 "nbformat": 4,
 "nbformat_minor": 2
}
